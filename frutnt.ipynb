{
 "cells": [
  {
   "cell_type": "code",
   "execution_count": null,
   "metadata": {},
   "outputs": [],
   "source": [
    "import numpy as np\n",
    "import matplotlib.pyplot as plt\n",
    "import cv2 as cv\n",
    "from path_provider import PathProvider"
   ]
  },
  {
   "cell_type": "code",
   "execution_count": null,
   "metadata": {},
   "outputs": [],
   "source": [
    "def examine_imgs(procces_img_func, data, columns = 4, size = 10, show_title=True):\n",
    "    \"\"\"\n",
    "    procces_img_func - funcion, that take exactly one argument -> image/image_path and return processed image\n",
    "    \"\"\"\n",
    "    rows = len(data) / columns + 1\n",
    "    figsize = (size*columns, size*rows)\n",
    "    f = plt.figure(figsize=figsize)\n",
    "    for i, image in enumerate(data):\n",
    "        img = procces_img_func(image)\n",
    "        sp = f.add_subplot(rows, columns, i+1)\n",
    "        sp.axis('Off')\n",
    "        if show_title:\n",
    "            title_text = str(i)\n",
    "            # if items in data are type of string\n",
    "            if isinstance(image, str):\n",
    "                title_text += image\n",
    "            sp.set_title(title_text, fontsize=18)\n",
    "        plt.imshow(img)\n",
    "    plt.show() \n",
    "    \n",
    "def grey2RGB(image):\n",
    "    return cv.cvtColor(image,cv.COLOR_GRAY2RGB)"
   ]
  },
  {
   "cell_type": "markdown",
   "metadata": {},
   "source": [
    "### Variables"
   ]
  },
  {
   "cell_type": "code",
   "execution_count": null,
   "metadata": {},
   "outputs": [],
   "source": [
    "develop_folder = \"./data/develop/\""
   ]
  },
  {
   "cell_type": "code",
   "execution_count": null,
   "metadata": {},
   "outputs": [],
   "source": [
    "first_category = \"Category 1 - Easy Fits/\""
   ]
  },
  {
   "cell_type": "markdown",
   "metadata": {},
   "source": [
    "### CODE"
   ]
  },
  {
   "cell_type": "code",
   "execution_count": null,
   "metadata": {},
   "outputs": [],
   "source": [
    "pathProvider = PathProvider()"
   ]
  },
  {
   "cell_type": "code",
   "execution_count": null,
   "metadata": {},
   "outputs": [],
   "source": [
    "paths = pathProvider.get_paths_dict()"
   ]
  },
  {
   "cell_type": "code",
   "execution_count": null,
   "metadata": {
    "scrolled": true
   },
   "outputs": [],
   "source": [
    "paths"
   ]
  },
  {
   "cell_type": "markdown",
   "metadata": {},
   "source": [
    "### LOAD IMGAES"
   ]
  },
  {
   "cell_type": "code",
   "execution_count": null,
   "metadata": {},
   "outputs": [],
   "source": [
    "img = cv.imread(paths[1][2], 2)\n",
    "    "
   ]
  },
  {
   "cell_type": "code",
   "execution_count": null,
   "metadata": {},
   "outputs": [],
   "source": [
    "row, cols = img.shape"
   ]
  },
  {
   "cell_type": "code",
   "execution_count": null,
   "metadata": {},
   "outputs": [],
   "source": [
    "row"
   ]
  },
  {
   "cell_type": "code",
   "execution_count": null,
   "metadata": {},
   "outputs": [],
   "source": [
    "cols"
   ]
  },
  {
   "cell_type": "code",
   "execution_count": null,
   "metadata": {},
   "outputs": [],
   "source": [
    "blur( src_gray, src_gray, Size(3,3) );"
   ]
  },
  {
   "cell_type": "code",
   "execution_count": null,
   "metadata": {
    "scrolled": true
   },
   "outputs": [],
   "source": [
    "img_norm = cv.resize(img, (row, cols))\n",
    "cv.normalize(img, img_norm, 0, 255, cv.NORM_MINMAX)\n"
   ]
  },
  {
   "cell_type": "code",
   "execution_count": null,
   "metadata": {},
   "outputs": [],
   "source": [
    "cv.equalizeHist(img_norm)"
   ]
  },
  {
   "cell_type": "code",
   "execution_count": null,
   "metadata": {},
   "outputs": [],
   "source": [
    "plt.imshow(img, cmap=\"gray\")\n",
    "plt.show()"
   ]
  },
  {
   "cell_type": "markdown",
   "metadata": {},
   "source": [
    "### PLOT ALL IMAGES"
   ]
  },
  {
   "cell_type": "code",
   "execution_count": null,
   "metadata": {},
   "outputs": [],
   "source": [
    "envelops_to_plot = []\n",
    "for img_path in paths[1]:\n",
    "    envelops_to_plot.append(cv.imread(img_path, 2))\n",
    "\n",
    "# yolo_process_img = partial(process_img, yolo=yolo)\n",
    "# examine_imgs(yolo_process_img, envelops_to_plot, 2, 12)\n",
    "examine_imgs(grey2RGB, envelops_to_plot, 2, 12)"
   ]
  },
  {
   "cell_type": "markdown",
   "metadata": {},
   "source": [
    "### TEST"
   ]
  },
  {
   "cell_type": "code",
   "execution_count": null,
   "metadata": {},
   "outputs": [],
   "source": [
    "img_test = cv.imread(paths[1][0], 2)\n",
    "img_scaled = cv.normalize(img_test, dst=None, alpha=0, beta=65535, norm_type=cv.NORM_MINMAX)\n",
    "img8 = (img_scaled/256).astype('uint8')\n",
    "plt.imshow(img_scaled, cmap=\"gray\")\n",
    "plt.show()"
   ]
  },
  {
   "cell_type": "code",
   "execution_count": null,
   "metadata": {},
   "outputs": [],
   "source": [
    "img8 = (img_scaled/256).astype('uint8')"
   ]
  },
  {
   "cell_type": "code",
   "execution_count": null,
   "metadata": {},
   "outputs": [],
   "source": [
    "cv.imwrite(\"img.tiff\",img8)"
   ]
  },
  {
   "cell_type": "code",
   "execution_count": null,
   "metadata": {},
   "outputs": [],
   "source": [
    "plt.imshow(img8, cmap=\"gray\")\n",
    "plt.show()"
   ]
  },
  {
   "cell_type": "code",
   "execution_count": null,
   "metadata": {
    "scrolled": true
   },
   "outputs": [],
   "source": [
    "plt.imshow(img_test, cmap=\"gray\")\n",
    "plt.show()"
   ]
  },
  {
   "cell_type": "code",
   "execution_count": null,
   "metadata": {},
   "outputs": [],
   "source": [
    "blured = cv.blur( img8, (5,5) );"
   ]
  },
  {
   "cell_type": "code",
   "execution_count": null,
   "metadata": {},
   "outputs": [],
   "source": [
    "plt.imshow(blured, cmap=\"gray\")\n",
    "plt.show()"
   ]
  },
  {
   "cell_type": "code",
   "execution_count": null,
   "metadata": {},
   "outputs": [],
   "source": [
    "_,threshold_output = cv.threshold( img8, 100, 255, cv.THRESH_BINARY );"
   ]
  },
  {
   "cell_type": "code",
   "execution_count": null,
   "metadata": {},
   "outputs": [],
   "source": [
    "plt.imshow(threshold_output, cmap=\"gray\")\n",
    "plt.show()"
   ]
  },
  {
   "cell_type": "code",
   "execution_count": null,
   "metadata": {},
   "outputs": [],
   "source": [
    "gaus = cv.adaptiveThreshold(blured, 255, cv.ADAPTIVE_THRESH_GAUSSIAN_C, cv.THRESH_BINARY, 255,42)"
   ]
  },
  {
   "cell_type": "code",
   "execution_count": null,
   "metadata": {
    "scrolled": true
   },
   "outputs": [],
   "source": [
    "plt.imshow(gaus, cmap=\"gray\")\n",
    "plt.show()"
   ]
  },
  {
   "cell_type": "code",
   "execution_count": null,
   "metadata": {},
   "outputs": [],
   "source": [
    "gaus_inv = cv.adaptiveThreshold(blured, 255, cv.ADAPTIVE_THRESH_GAUSSIAN_C, cv.THRESH_BINARY_INV, 255,42)"
   ]
  },
  {
   "cell_type": "code",
   "execution_count": null,
   "metadata": {},
   "outputs": [],
   "source": [
    "plt.imshow(gaus_inv, cmap=\"gray\")\n",
    "plt.show()"
   ]
  },
  {
   "cell_type": "code",
   "execution_count": null,
   "metadata": {},
   "outputs": [],
   "source": [
    "edges = cv.Canny(gaus, 100, 255)"
   ]
  },
  {
   "cell_type": "code",
   "execution_count": null,
   "metadata": {
    "scrolled": true
   },
   "outputs": [],
   "source": [
    "plt.imshow(edges, cmap=\"gray\")\n",
    "plt.show()"
   ]
  },
  {
   "cell_type": "code",
   "execution_count": null,
   "metadata": {},
   "outputs": [],
   "source": [
    "contours, _ = cv.findContours(gaus_inv, cv.RETR_LIST, cv.CHAIN_APPROX_SIMPLE)"
   ]
  },
  {
   "cell_type": "code",
   "execution_count": null,
   "metadata": {},
   "outputs": [],
   "source": [
    "len(contours)\n"
   ]
  },
  {
   "cell_type": "code",
   "execution_count": null,
   "metadata": {},
   "outputs": [],
   "source": [
    "contours"
   ]
  },
  {
   "cell_type": "code",
   "execution_count": null,
   "metadata": {},
   "outputs": [],
   "source": []
  },
  {
   "cell_type": "code",
   "execution_count": null,
   "metadata": {},
   "outputs": [],
   "source": [
    "sobelx = cv.Sobel(img8, CV_8UC1, 1, 0, ksize=5)"
   ]
  },
  {
   "cell_type": "code",
   "execution_count": null,
   "metadata": {},
   "outputs": [],
   "source": [
    "plt.imshow(sobelx, cmap=\"gray\")\n",
    "plt.show()"
   ]
  },
  {
   "cell_type": "code",
   "execution_count": null,
   "metadata": {},
   "outputs": [],
   "source": [
    "contours_sobel, _ = cv.findContours(gaus_inv, cv.RETR_LIST, cv.CHAIN_APPROX_SIMPLE)"
   ]
  },
  {
   "cell_type": "code",
   "execution_count": null,
   "metadata": {},
   "outputs": [],
   "source": []
  },
  {
   "cell_type": "code",
   "execution_count": null,
   "metadata": {},
   "outputs": [],
   "source": [
    "retval_otsu, otsu = cv.threshold(img8, 0,255,cv.THRESH_BINARY+cv.THRESH_OTSU)"
   ]
  },
  {
   "cell_type": "code",
   "execution_count": null,
   "metadata": {},
   "outputs": [],
   "source": [
    "retval_otsu"
   ]
  },
  {
   "cell_type": "code",
   "execution_count": null,
   "metadata": {
    "scrolled": true
   },
   "outputs": [],
   "source": [
    "plt.imshow( otsu, cmap=\"gray\")\n",
    "plt.show()"
   ]
  },
  {
   "cell_type": "code",
   "execution_count": null,
   "metadata": {},
   "outputs": [],
   "source": [
    "contours_otsu, _ = cv.findContours(otsu, cv.RETR_LIST, cv.CHAIN_APPROX_SIMPLE)"
   ]
  },
  {
   "cell_type": "code",
   "execution_count": null,
   "metadata": {},
   "outputs": [],
   "source": [
    "len(contours_otsu)"
   ]
  },
  {
   "cell_type": "code",
   "execution_count": null,
   "metadata": {},
   "outputs": [],
   "source": []
  },
  {
   "cell_type": "code",
   "execution_count": null,
   "metadata": {},
   "outputs": [],
   "source": [
    "gray = cv.bilateralFilter(img8, 11, 17, 17)\n",
    "edged = cv.Canny(gray, 30, 200)"
   ]
  },
  {
   "cell_type": "code",
   "execution_count": null,
   "metadata": {},
   "outputs": [],
   "source": [
    "plt.imshow( edges, cmap=\"gray\")\n",
    "plt.show()"
   ]
  },
  {
   "cell_type": "code",
   "execution_count": null,
   "metadata": {},
   "outputs": [],
   "source": []
  },
  {
   "cell_type": "markdown",
   "metadata": {},
   "source": [
    "### Histogram"
   ]
  },
  {
   "cell_type": "code",
   "execution_count": null,
   "metadata": {},
   "outputs": [],
   "source": [
    "plt.hist(img8.ravel(),256,[0,256]); plt.show()"
   ]
  },
  {
   "cell_type": "code",
   "execution_count": null,
   "metadata": {},
   "outputs": [],
   "source": []
  },
  {
   "cell_type": "code",
   "execution_count": null,
   "metadata": {},
   "outputs": [],
   "source": [
    "gaus = cv.adaptiveThreshold(img8, 255, cv.ADAPTIVE_THRESH_GAUSSIAN_C, cv.THRESH_BINARY, 255,42)"
   ]
  },
  {
   "cell_type": "code",
   "execution_count": null,
   "metadata": {},
   "outputs": [],
   "source": [
    "plt.imshow( gaus, cmap=\"gray\")\n",
    "plt.show()"
   ]
  },
  {
   "cell_type": "code",
   "execution_count": null,
   "metadata": {},
   "outputs": [],
   "source": [
    "gaus_inv = cv.adaptiveThreshold(img8, 255, cv.ADAPTIVE_THRESH_GAUSSIAN_C, cv.THRESH_BINARY_INV, 255,42)"
   ]
  },
  {
   "cell_type": "code",
   "execution_count": null,
   "metadata": {},
   "outputs": [],
   "source": [
    "plt.imshow( gaus_inv, cmap=\"gray\")\n",
    "plt.show()"
   ]
  },
  {
   "cell_type": "code",
   "execution_count": null,
   "metadata": {},
   "outputs": [],
   "source": []
  },
  {
   "cell_type": "markdown",
   "metadata": {},
   "source": [
    "### FLOOD FILL"
   ]
  },
  {
   "cell_type": "code",
   "execution_count": null,
   "metadata": {},
   "outputs": [],
   "source": [
    "img_test_flood = cv.imread(paths[1][8], 2)\n",
    "img_scaled_flood = cv.normalize(img_test_flood, dst=None, alpha=0, beta=65535, norm_type=cv.NORM_MINMAX)\n",
    "img8_flood = (img_scaled_flood/256).astype('uint8')\n",
    "plt.imshow(img8_flood, cmap=\"gray\")\n",
    "plt.show()"
   ]
  },
  {
   "cell_type": "code",
   "execution_count": null,
   "metadata": {},
   "outputs": [],
   "source": [
    "th_flood, im_th_flood = cv.threshold(img8_flood, 120, 255, cv.THRESH_BINARY);\n",
    "# im_th = cv.adaptiveThreshold(img8, 255, cv.ADAPTIVE_THRESH_GAUSSIAN_C, cv.THRESH_BINARY_INV, 255,20)\n",
    "plt.imshow(im_th_flood, cmap=\"gray\")\n",
    "plt.show()\n"
   ]
  },
  {
   "cell_type": "code",
   "execution_count": null,
   "metadata": {},
   "outputs": [],
   "source": [
    "# Copy the thresholded image.\n",
    "im_floodfill = im_th_flood.copy()\n",
    " \n"
   ]
  },
  {
   "cell_type": "code",
   "execution_count": null,
   "metadata": {
    "scrolled": true
   },
   "outputs": [],
   "source": [
    "# Mask used to flood filling.\n",
    "# Notice the size needs to be 2 pixels than the image.\n",
    "h, w = im_th_flood.shape[:2]\n",
    "seed = (w/2,h/2)\n",
    "mask = np.zeros((h+2, w+2), np.uint8)\n",
    "plt.imshow(mask, cmap=\"gray\")\n",
    "plt.show()\n"
   ]
  },
  {
   "cell_type": "code",
   "execution_count": null,
   "metadata": {},
   "outputs": [],
   "source": [
    "\n",
    "# Floodfill from point (0, 0)\n",
    "cv.floodFill(im_floodfill, None, (0,0), 255);\n",
    "plt.imshow(im_floodfill, cmap=\"gray\")\n",
    "plt.show()"
   ]
  },
  {
   "cell_type": "code",
   "execution_count": null,
   "metadata": {},
   "outputs": [],
   "source": [
    " \n",
    "# Invert floodfilled image\n",
    "im_floodfill_inv = cv.bitwise_not(im_floodfill)\n",
    "plt.imshow(im_floodfill_inv, cmap=\"gray\")\n",
    "plt.show()"
   ]
  },
  {
   "cell_type": "code",
   "execution_count": null,
   "metadata": {},
   "outputs": [],
   "source": [
    " \n",
    "# Combine the two images to get the foreground.\n",
    "im_out = im_th_flood | im_floodfill_inv\n",
    "\n",
    "plt.imshow(im_out, cmap=\"gray\")\n",
    "plt.show()"
   ]
  },
  {
   "cell_type": "markdown",
   "metadata": {},
   "source": [
    "### RESIZE"
   ]
  },
  {
   "cell_type": "code",
   "execution_count": null,
   "metadata": {
    "scrolled": true
   },
   "outputs": [],
   "source": [
    "img__test_resize = cv.imread(paths[2][8], 2)\n",
    "img_scaled_resize = cv.normalize(img__test_resize, dst=None, alpha=0, beta=65535, norm_type=cv.NORM_MINMAX)\n",
    "img_scaled_resize  = (img_scaled_resize /256).astype('uint8')\n",
    "plt.imshow(img_scaled_resize, cmap=\"gray\")\n",
    "plt.show()"
   ]
  },
  {
   "cell_type": "markdown",
   "metadata": {},
   "source": [
    "### MORPHOLOGICAL"
   ]
  },
  {
   "cell_type": "code",
   "execution_count": null,
   "metadata": {
    "scrolled": false
   },
   "outputs": [],
   "source": [
    "img_test_morph = cv.imread(paths[1][5], 2)\n",
    "img_scaled_morph = cv.normalize(img_test_morph, dst=None, alpha=0, beta=65535, norm_type=cv.NORM_MINMAX)\n",
    "img8_morph = (img_scaled_morph/256).astype('uint8')\n",
    "plt.imshow(img8_morph, cmap=\"gray\")\n",
    "plt.show()"
   ]
  },
  {
   "cell_type": "code",
   "execution_count": null,
   "metadata": {},
   "outputs": [],
   "source": [
    "#// Creating kernel matrix\n",
    "#kernel = np.ones(5,5)\n",
    "kernel = cv.getStructuringElement(cv.MORPH_ELLIPSE, (15, 15))\n",
    "#kernel = np.ones((5,5), dtype=float)\n",
    "\n",
    "#// Applying Blur effect on the Image \n",
    "dst = cv.morphologyEx(img8_morph, cv.MORPH_GRADIENT, kernel)\n",
    "plt.imshow(dst, cmap=\"gray\")\n",
    "plt.show()"
   ]
  },
  {
   "cell_type": "code",
   "execution_count": null,
   "metadata": {
    "scrolled": true
   },
   "outputs": [],
   "source": [
    "image = cv.dilate(img8_morph, kernel, iterations=6)\n",
    "plt.imshow(image, cmap=\"gray\")\n",
    "plt.show()"
   ]
  },
  {
   "cell_type": "code",
   "execution_count": null,
   "metadata": {
    "scrolled": true
   },
   "outputs": [],
   "source": [
    "sobelx = cv.Sobel(image, cv.CV_64F, 1, 0, ksize=5)\n",
    "plt.imshow(sobelx, cmap=\"gray\")\n",
    "plt.show()"
   ]
  },
  {
   "cell_type": "code",
   "execution_count": null,
   "metadata": {
    "scrolled": false
   },
   "outputs": [],
   "source": [
    "sobely = cv.Sobel(image, cv.CV_64F, 0, 1, ksize=5)\n",
    "plt.imshow(sobely, cmap=\"gray\")\n",
    "plt.show()"
   ]
  },
  {
   "cell_type": "code",
   "execution_count": null,
   "metadata": {
    "scrolled": true
   },
   "outputs": [],
   "source": [
    "#// Applying Blur effect on the Image \n",
    "image = cv.morphologyEx(image, cv.MORPH_GRADIENT, kernel)\n",
    "plt.imshow(image, cmap=\"gray\")\n",
    "plt.show()"
   ]
  },
  {
   "cell_type": "code",
   "execution_count": null,
   "metadata": {},
   "outputs": [],
   "source": [
    "contours, hierarchy = cv.findContours(\n",
    "    image,\n",
    "    cv.RETR_LIST,\n",
    "    cv.CHAIN_APPROX_SIMPLE\n",
    ")"
   ]
  },
  {
   "cell_type": "code",
   "execution_count": null,
   "metadata": {
    "scrolled": false
   },
   "outputs": [],
   "source": [
    "len(contours)"
   ]
  },
  {
   "cell_type": "markdown",
   "metadata": {},
   "source": [
    "### Funkcni 1"
   ]
  },
  {
   "cell_type": "code",
   "execution_count": null,
   "metadata": {
    "scrolled": false
   },
   "outputs": [],
   "source": [
    "img_funkcni_1 = cv.imread(paths[2][6], 2)\n",
    "img_funkcni_1 = cv.normalize(img_funkcni_1, dst=None, alpha=0, beta=65535, norm_type=cv.NORM_MINMAX)\n",
    "img_funkcni_1 = (img_funkcni_1/256).astype('uint8')\n",
    "plt.imshow(img_funkcni_1, cmap=\"gray\")\n",
    "plt.show()"
   ]
  },
  {
   "cell_type": "code",
   "execution_count": null,
   "metadata": {
    "scrolled": true
   },
   "outputs": [],
   "source": [
    "img = cv.GaussianBlur(img_funkcni_1, (13, 13), sigmaX=0, sigmaY=0)\n",
    "img = cv.GaussianBlur(img, (31, 31), sigmaX=0, sigmaY=0)  # 2 times for better blur of peaks\n",
    "_, img = cv.threshold(img, 0, 255, cv.THRESH_BINARY+cv.THRESH_OTSU)\n",
    "plt.imshow(img, cmap=\"gray\")\n",
    "plt.show()"
   ]
  },
  {
   "cell_type": "code",
   "execution_count": null,
   "metadata": {},
   "outputs": [],
   "source": [
    "\n",
    "img = cv.dilate(img, (5, 5), iterations=5)\n",
    "img = cv.erode(img, (5, 5), iterations=3)"
   ]
  },
  {
   "cell_type": "code",
   "execution_count": null,
   "metadata": {
    "scrolled": true
   },
   "outputs": [],
   "source": [
    "#taken from https://docs.opencv.org/4.1.0/de/d62/tutorial_bounding_rotated_ellipses.html\n",
    "from __future__ import print_function\n",
    "import cv2 as cv\n",
    "import numpy as np\n",
    "import argparse\n",
    "import random as rng\n",
    "rng.seed(12345)\n",
    "def thresh_callback(val):\n",
    "    threshold = val\n",
    "    \n",
    "    #src_gray = cv.Canny(src_gray, threshold, threshold * 2)\n",
    "    \n",
    "    \n",
    "    contours, _ = cv.findContours(src_gray, cv.RETR_TREE, cv.CHAIN_APPROX_SIMPLE)\n",
    "\n",
    "    # Find the rotated rectangles and ellipses for each contour\n",
    "    minRect = [None]*len(contours)\n",
    "    minEllipse = [None]*len(contours)\n",
    "    for i, c in enumerate(contours):\n",
    "        minRect[i] = cv.minAreaRect(c)\n",
    "        if c.shape[0] > 5:\n",
    "            minEllipse[i] = cv.fitEllipse(c)\n",
    "    # Draw contours + rotated rects + ellipses\n",
    "    \n",
    "    drawing = np.zeros((src_gray.shape[0], src_gray.shape[1], 3), dtype=np.uint8)\n",
    "    \n",
    "    for i, c in enumerate(contours):\n",
    "        color = (rng.randint(0,256), rng.randint(0,256), rng.randint(0,256))\n",
    "        # contour\n",
    "        cv.drawContours(drawing, contours, i, color)\n",
    "        # ellipse\n",
    "        if c.shape[0] > 5:\n",
    "            cv.ellipse(drawing, minEllipse[i], color, 2)\n",
    "        # rotated rectangle\n",
    "        box = cv.boxPoints(minRect[i])\n",
    "        box = np.intp(box) #np.intp: Integer used for indexing (same as C ssize_t; normally either int32 or int64)\n",
    "        cv.drawContours(drawing, [box], 0, color)\n",
    "    \n",
    "    \n",
    "    plt.imshow( drawing)\n",
    "    \n",
    "src_gray = img# cv.blur(image, (3,3))\n",
    "source_window = 'Source'\n",
    "\n",
    "max_thresh = 255\n",
    "thresh = 100 # initial threshold\n",
    "#cv.createTrackbar('Canny Thresh:', source_window, thresh, max_thresh, thresh_callback)\n",
    "thresh_callback(thresh)\n"
   ]
  },
  {
   "cell_type": "markdown",
   "metadata": {},
   "source": [
    "### FUNKCNI 2"
   ]
  },
  {
   "cell_type": "code",
   "execution_count": null,
   "metadata": {
    "scrolled": true
   },
   "outputs": [],
   "source": [
    "img_funkcni_2 = cv.imread(paths[2][7], 2)\n",
    "img_funkcni_2 = cv.normalize(img_funkcni_2, dst=None, alpha=0, beta=65535, norm_type=cv.NORM_MINMAX)\n",
    "img_funkcni_2 = (img_funkcni_2/256).astype('uint8')\n",
    "plt.imshow(img_funkcni_2, cmap=\"gray\")\n",
    "plt.show()"
   ]
  },
  {
   "cell_type": "code",
   "execution_count": null,
   "metadata": {},
   "outputs": [],
   "source": [
    "img_blured = cv.GaussianBlur(img_funkcni_2, (13, 13), sigmaX=0, sigmaY=0)\n",
    "plt.imshow(img_blured, cmap=\"gray\")\n",
    "plt.show()"
   ]
  },
  {
   "cell_type": "code",
   "execution_count": null,
   "metadata": {
    "scrolled": true
   },
   "outputs": [],
   "source": [
    "#// Creating kernel matrix\n",
    "#kernel = np.ones(5,5)\n",
    "kernel = cv.getStructuringElement(cv.MORPH_ELLIPSE, (15, 15))\n",
    "#kernel = np.ones((5,5), dtype=float)\n",
    "\n",
    "#// Applying Blur effect on the Image \n",
    "dst = cv.morphologyEx(img_funkcni_2, cv.MORPH_GRADIENT, kernel)\n",
    "plt.imshow(dst, cmap=\"gray\")\n",
    "plt.show()"
   ]
  },
  {
   "cell_type": "code",
   "execution_count": null,
   "metadata": {
    "scrolled": true
   },
   "outputs": [],
   "source": [
    "img_blured = cv.GaussianBlur(dst, (13, 13), sigmaX=0, sigmaY=0)\n",
    "plt.imshow(img_blured, cmap=\"gray\")\n",
    "plt.show()"
   ]
  },
  {
   "cell_type": "code",
   "execution_count": null,
   "metadata": {},
   "outputs": [],
   "source": [
    "img = cv.dilate(img_blured, (5, 5), iterations=5)\n",
    "img = cv.erode(img, (5, 5), iterations=3)"
   ]
  },
  {
   "cell_type": "code",
   "execution_count": null,
   "metadata": {},
   "outputs": [],
   "source": [
    "_, img = cv.threshold(img, 0, 255, cv.THRESH_BINARY+cv.THRESH_OTSU)\n",
    "plt.imshow(img, cmap=\"gray\")\n",
    "plt.show()"
   ]
  },
  {
   "cell_type": "code",
   "execution_count": null,
   "metadata": {
    "scrolled": true
   },
   "outputs": [],
   "source": [
    "#// Applying Blur effect on the Image \n",
    "dst = cv.morphologyEx(img, cv.MORPH_GRADIENT, kernel)\n",
    "plt.imshow(dst, cmap=\"gray\")\n",
    "plt.show()"
   ]
  },
  {
   "cell_type": "code",
   "execution_count": null,
   "metadata": {
    "scrolled": false
   },
   "outputs": [],
   "source": [
    "# Copy the thresholded image.\n",
    "im_floodfill = img.copy()\n",
    " # Mask used to flood filling.\n",
    "# Notice the size needs to be 2 pixels than the image.\n",
    "h, w = img.shape[:2]\n",
    "seed = (w/2,h/2)\n",
    "mask = np.zeros((h+2, w+2), np.uint8)\n",
    "plt.imshow(mask, cmap=\"gray\")\n",
    "plt.show()\n",
    "\n",
    "\n",
    "# Floodfill from point (0, 0)\n",
    "cv.floodFill(im_floodfill, mask, (0,0), 255);\n",
    "plt.imshow(im_floodfill, cmap=\"gray\")\n",
    "plt.show()\n",
    "\n",
    "# Invert floodfilled image\n",
    "im_floodfill_inv = cv.bitwise_not(im_floodfill)\n",
    "plt.imshow(im_floodfill_inv, cmap=\"gray\")\n",
    "plt.show()\n",
    "\n",
    "# Combine the two images to get the foreground.\n",
    "img = img | im_floodfill_inv\n",
    "\n",
    "plt.imshow(img, cmap=\"gray\")\n",
    "plt.show()"
   ]
  },
  {
   "cell_type": "code",
   "execution_count": null,
   "metadata": {
    "scrolled": true
   },
   "outputs": [],
   "source": [
    "\n",
    "img = cv.dilate(img, (5, 5), iterations=5)\n",
    "img = cv.erode(img, (5, 5), iterations=3)\n",
    "plt.imshow(img, cmap=\"gray\")\n",
    "plt.show()"
   ]
  },
  {
   "cell_type": "code",
   "execution_count": null,
   "metadata": {},
   "outputs": [],
   "source": [
    "#taken from https://docs.opencv.org/4.1.0/de/d62/tutorial_bounding_rotated_ellipses.html\n",
    "from __future__ import print_function\n",
    "import cv2 as cv\n",
    "import numpy as np\n",
    "import argparse\n",
    "import random as rng\n",
    "rng.seed(12345)\n",
    "def thresh_callback(val):\n",
    "    threshold = val\n",
    "    \n",
    "    #src_gray = cv.Canny(src_gray, threshold, threshold * 2)\n",
    "    \n",
    "    \n",
    "    contours, _ = cv.findContours(src_gray, cv.RETR_TREE, cv.CHAIN_APPROX_SIMPLE)\n",
    "\n",
    "    # Find the rotated rectangles and ellipses for each contour\n",
    "    minRect = [None]*len(contours)\n",
    "    minEllipse = [None]*len(contours)\n",
    "    for i, c in enumerate(contours):\n",
    "        minRect[i] = cv.minAreaRect(c)\n",
    "        if c.shape[0] > 5:\n",
    "            minEllipse[i] = cv.fitEllipse(c)\n",
    "    # Draw contours + rotated rects + ellipses\n",
    "    \n",
    "    drawing = np.zeros((src_gray.shape[0], src_gray.shape[1], 3), dtype=np.uint8)\n",
    "    \n",
    "    for i, c in enumerate(contours):\n",
    "        color = (rng.randint(0,256), rng.randint(0,256), rng.randint(0,256))\n",
    "        # contour\n",
    "        cv.drawContours(drawing, contours, i, color)\n",
    "        # ellipse\n",
    "        if c.shape[0] > 5:\n",
    "            cv.ellipse(drawing, minEllipse[i], color, 2)\n",
    "        # rotated rectangle\n",
    "        box = cv.boxPoints(minRect[i])\n",
    "        box = np.intp(box) #np.intp: Integer used for indexing (same as C ssize_t; normally either int32 or int64)\n",
    "        cv.drawContours(drawing, [box], 0, color)\n",
    "    \n",
    "    \n",
    "    plt.imshow( drawing)\n",
    "    \n",
    "src_gray = img# cv.blur(image, (3,3))\n",
    "source_window = 'Source'\n",
    "\n",
    "max_thresh = 255\n",
    "thresh = 100 # initial threshold\n",
    "#cv.createTrackbar('Canny Thresh:', source_window, thresh, max_thresh, thresh_callback)\n",
    "thresh_callback(thresh)\n"
   ]
  }
 ],
 "metadata": {
  "kernelspec": {
   "display_name": "Python 3",
   "language": "python",
   "name": "python3"
  },
  "language_info": {
   "codemirror_mode": {
    "name": "ipython",
    "version": 3
   },
   "file_extension": ".py",
   "mimetype": "text/x-python",
   "name": "python",
   "nbconvert_exporter": "python",
   "pygments_lexer": "ipython3",
   "version": "3.6.6"
  }
 },
 "nbformat": 4,
 "nbformat_minor": 2
}
